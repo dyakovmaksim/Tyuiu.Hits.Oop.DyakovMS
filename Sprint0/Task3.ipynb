{
 "cells": [
  {
   "cell_type": "markdown",
   "metadata": {},
   "source": [
    "<h1 style=\"color:DodgerBlue\">Индивидальный проект</h1>"
   ]
  },
  {
   "cell_type": "markdown",
   "metadata": {},
   "source": [
    "<h2 style=\"color:DodgerBlue\">Название проекта:</h2>\n",
    "\n",
    "----\n",
    "\n",
    "### Вариант задания 5\n"
   ]
  },
  {
   "cell_type": "markdown",
   "metadata": {},
   "source": [
    "<h2 style=\"color:DodgerBlue\">Описание проекта:</h2>\n",
    "\n",
    "----\n",
    "\n",
    "Создать базовый класс Book в C#, который будет представлять информацию о\n",
    "книгах. На основе этого класса разработать 2-3 производных класса,\n",
    "демонстрирующих принципы наследования и полиморфизма. В каждом из классов\n",
    "должны быть реализованы новые атрибуты и методы, а также переопределены\n",
    "некоторые методы базового класса для демонстрации полиморфизма.\n",
    "Требования к базовому классу Book:\n",
    "• Атрибуты: Название (Title), Автор (Author), Год издания (YearOfPublication).\n",
    "• Методы:\n",
    "o GetInfo(): метод для получения информации о книге в виде строки.\n",
    "o Read(): метод для вывода сообщения о чтении книги.\n",
    "o Borrow(): метод для вывода сообщения о выдаче книги на чтение.\n",
    "Требования к производным классам:\n",
    "1. Учебник (Textbook): Должен содержать дополнительные атрибуты, такие как\n",
    "Предмет (Subject). Метод Read() должен быть переопределен для\n",
    "добавления информации о предмете при чтении учебника.\n",
    "2. Художественная литература (Fiction): Должен содержать дополнительные\n",
    "атрибуты, такие как Жанр (Genre). Метод Borrow() должен быть\n",
    "переопределен для добавления информации о жанре при выдаче книги на\n",
    "чтение.\n",
    "3. Научная литература (ScientificLiterature) (если требуется третий класс):\n",
    "Должен содержать дополнительные атрибуты, такие как Область науки\n",
    "(FieldOfScience). Метод GetInfo() должен быть переопределен для включения\n",
    "информации об области науки в описании книги.\n"
   ]
  },
  {
   "cell_type": "markdown",
   "metadata": {},
   "source": [
    "<h2 style=\"color:DodgerBlue\">Реализация:</h2>\n",
    "\n",
    "----"
   ]
  },
  {
   "cell_type": "code",
   "execution_count": 1,
   "metadata": {
    "dotnet_interactive": {
     "language": "csharp"
    },
    "polyglot_notebook": {
     "kernelName": "csharp"
    }
   },
   "outputs": [
    {
     "name": "stdout",
     "output_type": "stream",
     "text": [
      "Математика 10 класс, Иванов И.И., 2020 г.\n",
      "Чтение учебника \"Математика 10 класс\" по предмету: Математика.\n",
      "Книга \"Математика 10 класс\" выдана на чтение.\n",
      "\n",
      "Война и мир, Лев Толстой, 1869 г.\n",
      "Чтение книги \"Война и мир\" автора Лев Толстой...\n",
      "Выдана художественная книга \"Война и мир\" (Жанр: Роман).\n",
      "\n",
      "Краткая история времени, Стивен Хокинг, 1988 г. — Область науки: Физика\n",
      "Чтение книги \"Краткая история времени\" автора Стивен Хокинг...\n",
      "Книга \"Краткая история времени\" выдана на чтение.\n"
     ]
    }
   ],
   "source": [
    "public class Book\n",
    "{\n",
    "    public string Title { get; set; }\n",
    "    public string Author { get; set; }\n",
    "    public int YearOfPublication { get; set; }\n",
    "\n",
    "    public Book(string title, string author, int year)\n",
    "    {\n",
    "        Title = title;\n",
    "        Author = author;\n",
    "        YearOfPublication = year;\n",
    "    }\n",
    "\n",
    "    public virtual string GetInfo()\n",
    "    {\n",
    "        return $\"{Title}, {Author}, {YearOfPublication} г.\";\n",
    "    }\n",
    "\n",
    "    public virtual void Read()\n",
    "    {\n",
    "        Console.WriteLine($\"Чтение книги \\\"{Title}\\\" автора {Author}...\");\n",
    "    }\n",
    "\n",
    "    public virtual void Borrow()\n",
    "    {\n",
    "        Console.WriteLine($\"Книга \\\"{Title}\\\" выдана на чтение.\");\n",
    "    }\n",
    "}\n",
    "\n",
    "public class Textbook : Book\n",
    "{\n",
    "    public string Subject { get; set; }\n",
    "\n",
    "    public Textbook(string title, string author, int year, string subject)\n",
    "        : base(title, author, year)\n",
    "    {\n",
    "        Subject = subject;\n",
    "    }\n",
    "\n",
    "    public override void Read()\n",
    "    {\n",
    "        Console.WriteLine($\"Чтение учебника \\\"{Title}\\\" по предмету: {Subject}.\");\n",
    "    }\n",
    "}\n",
    "\n",
    "public class Fiction : Book\n",
    "{\n",
    "    public string Genre { get; set; }\n",
    "\n",
    "    public Fiction(string title, string author, int year, string genre)\n",
    "        : base(title, author, year)\n",
    "    {\n",
    "        Genre = genre;\n",
    "    }\n",
    "\n",
    "    public override void Borrow()\n",
    "    {\n",
    "        Console.WriteLine($\"Выдана художественная книга \\\"{Title}\\\" (Жанр: {Genre}).\");\n",
    "    }\n",
    "}\n",
    "\n",
    "public class ScientificLiterature : Book\n",
    "{\n",
    "    public string FieldOfScience { get; set; }\n",
    "\n",
    "    public ScientificLiterature(string title, string author, int year, string field)\n",
    "        : base(title, author, year)\n",
    "    {\n",
    "        FieldOfScience = field;\n",
    "    }\n",
    "\n",
    "    public override string GetInfo()\n",
    "    {\n",
    "        return $\"{Title}, {Author}, {YearOfPublication} г. — Область науки: {FieldOfScience}\";\n",
    "    }\n",
    "}\n",
    "\n",
    "    Book textbook = new Textbook(\"Математика 10 класс\", \"Иванов И.И.\", 2020, \"Математика\");\n",
    "    Book fiction = new Fiction(\"Война и мир\", \"Лев Толстой\", 1869, \"Роман\");\n",
    "    Book science = new ScientificLiterature(\"Краткая история времени\", \"Стивен Хокинг\", 1988, \"Физика\");\n",
    "\n",
    "    Console.WriteLine(textbook.GetInfo());\n",
    "    textbook.Read();\n",
    "    textbook.Borrow();\n",
    "\n",
    "    Console.WriteLine();\n",
    "\n",
    "    Console.WriteLine(fiction.GetInfo());\n",
    "    fiction.Read();\n",
    "    fiction.Borrow();\n",
    "\n",
    "    Console.WriteLine();\n",
    "\n",
    "    Console.WriteLine(science.GetInfo());\n",
    "    science.Read();\n",
    "    science.Borrow();"
   ]
  }
 ],
 "metadata": {
  "kernelspec": {
   "display_name": ".NET (C#)",
   "language": "C#",
   "name": ".net-csharp"
  },
  "polyglot_notebook": {
   "kernelInfo": {
    "defaultKernelName": "csharp",
    "items": [
     {
      "aliases": [],
      "languageName": "csharp",
      "name": "csharp"
     }
    ]
   }
  }
 },
 "nbformat": 4,
 "nbformat_minor": 2
}
